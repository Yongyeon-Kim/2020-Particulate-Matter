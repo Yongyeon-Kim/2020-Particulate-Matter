{
 "cells": [
  {
   "cell_type": "code",
   "execution_count": 9,
   "metadata": {},
   "outputs": [],
   "source": [
    "##편서풍 데이터 전처리\n",
    "\n",
    "import pandas as pd\n",
    "\n",
    "# CSV 파일 읽기\n",
    "df = pd.read_csv('D:/Users/Yongyeon/python/2023_고급웹프로그래밍/BiLSTM/data/2020_count_of_winds.csv')\n",
    "\n",
    "# '일시' 열을 날짜 형식으로 변환\n",
    "df['month'] = pd.to_datetime(df['month'])\n",
    "\n",
    "# '일시' 열을 월로 그룹화하고 '서풍 count'를 합산\n",
    "df_monthly = df.groupby(df['month'].dt.to_period(\"M\")).sum().reset_index()\n",
    "\n",
    "# 결과를 새로운 CSV 파일로 저장\n",
    "df_monthly.to_csv('2020_monthly_data.csv', index=False)"
   ]
  },
  {
   "cell_type": "code",
   "execution_count": 10,
   "metadata": {},
   "outputs": [],
   "source": [
    "##교통량 데이터 전처리\n",
    "\n",
    "import pandas as pd\n",
    "\n",
    "# CSV 파일 읽기\n",
    "df = pd.read_csv('D:/Users/Yongyeon/python/2023_고급웹프로그래밍/data_analysis/Traffic&PM/data_processing/2020_daily_traffic.csv')\n",
    "\n",
    "# '일시' 열을 날짜 형식으로 변환\n",
    "df['일자'] = pd.to_datetime(df['일자'])\n",
    "\n",
    "# '일시' 열을 월로 그룹화하고 '서풍 count'를 합산\n",
    "df_monthly = df.groupby(df['일자'].dt.to_period(\"M\")).sum().reset_index()\n",
    "\n",
    "# 결과를 새로운 CSV 파일로 저장\n",
    "df_monthly.to_csv('2020_monthly_data.csv', index=False)"
   ]
  },
  {
   "cell_type": "code",
   "execution_count": 16,
   "metadata": {},
   "outputs": [],
   "source": [
    "##미세먼지 데이터 전처리\n",
    "\n",
    "import pandas as pd\n",
    "\n",
    "# CSV 파일 읽기\n",
    "df = pd.read_csv('D:/Users/Yongyeon/python/2023_고급웹프로그래밍/data_analysis/Traffic&PM/data_processing/2019_2020_daily_air_quality.csv')\n",
    "\n",
    "# '일자' 열을 날짜 형식으로 변환\n",
    "df['일자'] = pd.to_datetime(df['일자'], format='%Y-%m-%d')\n",
    "\n",
    "# '일자' 열을 월로 그룹화하고 '교통량'을 합산\n",
    "df_monthly = df.groupby(df['일자'].dt.to_period(\"M\")).sum().reset_index()\n",
    "\n",
    "# 결과를 새로운 CSV 파일로 저장\n",
    "df_monthly.to_csv('2019_2020_monthly_pm10.csv', index=False)\n"
   ]
  },
  {
   "cell_type": "code",
   "execution_count": 19,
   "metadata": {},
   "outputs": [
    {
     "name": "stdout",
     "output_type": "stream",
     "text": [
      "새로운 파일이 'test.csv'에 저장되었습니다.\n"
     ]
    }
   ],
   "source": [
    "import pandas as pd\n",
    "\n",
    "# CSV 파일 읽기\n",
    "file_path = 'D:/Users/Yongyeon/python/2023_고급웹프로그래밍/BiLSTM/data/test.csv'\n",
    "df = pd.read_csv(file_path)\n",
    "\n",
    "# 소수점 제거\n",
    "df['pm10'] = df['pm10'].astype(int)\n",
    "df['traffic'] = df['traffic'].astype(int)\n",
    "df['wind'] = df['wind'].astype(int)\n",
    "\n",
    "# 수정된 데이터를 새로운 CSV 파일에 저장\n",
    "new_file_path = 'test.csv'\n",
    "df.to_csv(file_path, index=False)\n",
    "\n",
    "print(f\"새로운 파일이 '{new_file_path}'에 저장되었습니다.\")"
   ]
  },
  {
   "cell_type": "code",
   "execution_count": null,
   "metadata": {},
   "outputs": [],
   "source": []
  }
 ],
 "metadata": {
  "kernelspec": {
   "display_name": "base",
   "language": "python",
   "name": "python3"
  },
  "language_info": {
   "codemirror_mode": {
    "name": "ipython",
    "version": 3
   },
   "file_extension": ".py",
   "mimetype": "text/x-python",
   "name": "python",
   "nbconvert_exporter": "python",
   "pygments_lexer": "ipython3",
   "version": "3.8.8"
  }
 },
 "nbformat": 4,
 "nbformat_minor": 2
}
